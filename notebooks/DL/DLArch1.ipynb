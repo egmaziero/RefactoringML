{
 "cells": [
  {
   "cell_type": "markdown",
   "metadata": {},
   "source": [
    "# Deep Learning Arch #1\n",
    "## Embedding->Dense"
   ]
  },
  {
   "cell_type": "code",
   "execution_count": null,
   "metadata": {},
   "outputs": [],
   "source": [
    "from keras.layers import Embedding, Dense, Flatten, LSTM, Conv1D, MaxPooling1D, Dropout, Activation\n",
    "from keras.models import Sequential\n",
    "from keras.callbacks import EarlyStopping\n",
    "from keras.preprocessing.text import one_hot\n",
    "from keras.utils import to_categorical\n",
    "from keras.preprocessing.sequence import pad_sequences\n",
    "from sklearn.model_selection import train_test_split\n",
    "from sklearn.preprocessing import LabelEncoder\n",
    "import pandas as pd\n",
    "import numpy as np\n",
    "import os\n",
    "import csv \n",
    "import sys\n",
    "import re\n",
    "import scipy\n",
    "import numpy as np\n",
    "\n",
    "csv.field_size_limit(sys.maxsize)"
   ]
  },
  {
   "cell_type": "code",
   "execution_count": null,
   "metadata": {},
   "outputs": [],
   "source": [
    "def process_content(file_path):\n",
    "    with open(file_path, \"r\") as file:\n",
    "        lines = file.readlines()\n",
    "        source_code = []\n",
    "        for line in lines:\n",
    "            # filter comments\n",
    "            if not re.match(\"\\s*\\/\\/\\s*isComment\", line):\n",
    "                source_code.append(line)\n",
    "    text = ' '.join(source_code)\n",
    "    return text"
   ]
  },
  {
   "cell_type": "code",
   "execution_count": null,
   "metadata": {},
   "outputs": [],
   "source": [
    "def find_vocab_size(trainset):\n",
    "    vocab = {}\n",
    "    max_length = 0\n",
    "    for instance in trainset:\n",
    "        tokens = instance.split()\n",
    "\n",
    "        if len(tokens) > max_length:\n",
    "            max_length = len(tokens)\n",
    "\n",
    "        for token in tokens:\n",
    "            if token in vocab:\n",
    "                vocab[token] += 1\n",
    "            else:\n",
    "                vocab[token] = 0\n",
    "\n",
    "    return vocab, max_length"
   ]
  },
  {
   "cell_type": "code",
   "execution_count": null,
   "metadata": {},
   "outputs": [],
   "source": [
    "df = pd.read_pickle('../../data/instances.pkl')\n",
    "labels = list(set(df['target'].values))\n",
    "X = []\n",
    "Y = []\n",
    "\n",
    "print(\"Preparing lists...\")\n",
    "for index, row in df.iterrows():\n",
    "    X.append(process_content(\"../\" + row[\"source_code\"]))\n",
    "    Y.append(row[\"target\"])"
   ]
  },
  {
   "cell_type": "code",
   "execution_count": null,
   "metadata": {},
   "outputs": [],
   "source": [
    "encoder = LabelEncoder()\n",
    "encoder.fit(Y)\n",
    "encoded_Y = encoder.transform(Y)\n",
    "y_binary = to_categorical(encoded_Y)\n",
    "\n",
    "X_train, X_test, y_train, y_test = train_test_split(X, y_binary, train_size = 0.50, random_state=42)"
   ]
  },
  {
   "cell_type": "code",
   "execution_count": null,
   "metadata": {},
   "outputs": [],
   "source": [
    "vocab, max_length = find_vocab_size(X)\n",
    "\n",
    "vocab_size = len(vocab) + 100\n",
    "encoded_docs_train = [one_hot(d, vocab_size) for d in X_train]\n",
    "padded_docs_train = pad_sequences(encoded_docs_train, maxlen=max_length, padding='post')\n",
    "\n",
    "encoded_docs_test = [one_hot(d, vocab_size) for d in X_test]\n",
    "padded_docs_test = pad_sequences(encoded_docs_test, maxlen=max_length, padding='post')"
   ]
  },
  {
   "cell_type": "code",
   "execution_count": null,
   "metadata": {},
   "outputs": [],
   "source": [
    "callback_list = []\n",
    "callback_list.append(EarlyStopping(monitor='val_loss',\n",
    "                                   min_delta=0,\n",
    "                                   patience=2,\n",
    "                                   verbose=0,\n",
    "                                   mode='auto'))"
   ]
  },
  {
   "cell_type": "code",
   "execution_count": null,
   "metadata": {},
   "outputs": [],
   "source": [
    "model1 = Sequential()\n",
    "model1.add(Embedding(vocab_size, 128, input_length=max_length))\n",
    "model1.add(Flatten())\n",
    "model1.add(Dense(64, activation='relu'))\n",
    "model1.add(Dense(y_binary.shape[1], activation='softmax'))\n",
    "# compile the model\n",
    "model1.compile(optimizer='adam', loss='categorical_crossentropy', metrics=['accuracy'])\n",
    "\n",
    "# summarize the model\n",
    "print('################# Model 1 ###############')\n",
    "print(model1.summary())\n",
    "\n",
    "model1.fit(padded_docs_train, y_train, epochs=10, verbose=1, validation_split=0.2, callbacks=callback_list)\n",
    "# evaluate the model\n",
    "loss, accuracy = model1.evaluate(padded_docs_test, y_test, verbose=0)\n",
    "print('Accuracy: %f' % (accuracy*100))"
   ]
  },
  {
   "cell_type": "code",
   "execution_count": null,
   "metadata": {},
   "outputs": [],
   "source": [
    "model1.save('DLArch1.model')"
   ]
  },
  {
   "cell_type": "code",
   "execution_count": null,
   "metadata": {},
   "outputs": [],
   "source": []
  }
 ],
 "metadata": {
  "kernelspec": {
   "display_name": "Python 3",
   "language": "python",
   "name": "python3"
  },
  "language_info": {
   "codemirror_mode": {
    "name": "ipython",
    "version": 3
   },
   "file_extension": ".py",
   "mimetype": "text/x-python",
   "name": "python",
   "nbconvert_exporter": "python",
   "pygments_lexer": "ipython3",
   "version": "3.6.8"
  }
 },
 "nbformat": 4,
 "nbformat_minor": 2
}
