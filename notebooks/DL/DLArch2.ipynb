{
 "cells": [
  {
   "cell_type": "markdown",
   "metadata": {},
   "source": [
    "# Deep Learning Arch #2\n",
    "## Embedding->CNN->LSTM->Dense"
   ]
  },
  {
   "cell_type": "code",
   "execution_count": 1,
   "metadata": {},
   "outputs": [
    {
     "name": "stderr",
     "output_type": "stream",
     "text": [
      "Using TensorFlow backend.\n"
     ]
    },
    {
     "data": {
      "text/plain": [
       "131072"
      ]
     },
     "execution_count": 1,
     "metadata": {},
     "output_type": "execute_result"
    }
   ],
   "source": [
    "from keras.layers import Embedding, Dense, Flatten, LSTM, Conv1D, MaxPooling1D, Dropout, Activation\n",
    "from keras.models import Sequential\n",
    "from keras.callbacks import EarlyStopping\n",
    "from keras.preprocessing.text import one_hot\n",
    "from keras.utils import to_categorical\n",
    "from keras.preprocessing.sequence import pad_sequences\n",
    "from sklearn.preprocessing import LabelEncoder\n",
    "from sklearn.model_selection import train_test_split\n",
    "\n",
    "import pandas as pd\n",
    "import numpy as np\n",
    "import os\n",
    "import csv \n",
    "import sys\n",
    "import re\n",
    "import scipy\n",
    "import numpy as np\n",
    "\n",
    "csv.field_size_limit(sys.maxsize)"
   ]
  },
  {
   "cell_type": "code",
   "execution_count": 2,
   "metadata": {},
   "outputs": [],
   "source": [
    "def process_content(file_path):\n",
    "    with open(file_path, \"r\") as file:\n",
    "        lines = file.readlines()\n",
    "        source_code = []\n",
    "        for line in lines:\n",
    "            # filter comments\n",
    "            if not re.match(\"\\s*\\/\\/\\s*isComment\", line):\n",
    "                source_code.append(line)\n",
    "    text = ' '.join(source_code)\n",
    "    return text"
   ]
  },
  {
   "cell_type": "code",
   "execution_count": 3,
   "metadata": {},
   "outputs": [],
   "source": [
    "def find_vocab_size(trainset):\n",
    "    vocab = {}\n",
    "    max_length = 0\n",
    "    for instance in trainset:\n",
    "        tokens = instance.split()\n",
    "\n",
    "        if len(tokens) > max_length:\n",
    "            max_length = len(tokens)\n",
    "\n",
    "        for token in tokens:\n",
    "            if token in vocab:\n",
    "                vocab[token] += 1\n",
    "            else:\n",
    "                vocab[token] = 0\n",
    "\n",
    "    return vocab, max_length"
   ]
  },
  {
   "cell_type": "code",
   "execution_count": 4,
   "metadata": {},
   "outputs": [
    {
     "name": "stdout",
     "output_type": "stream",
     "text": [
      "Preparing lists...\n"
     ]
    }
   ],
   "source": [
    "df = pd.read_pickle('../../data/instances.pkl')\n",
    "labels = list(set(df['target'].values))\n",
    "X = []\n",
    "Y = []\n",
    "\n",
    "print(\"Preparing lists...\")\n",
    "for index, row in df.iterrows():\n",
    "    X.append(process_content(\"../\" + row[\"source_code\"]))\n",
    "    Y.append(row[\"target\"])"
   ]
  },
  {
   "cell_type": "code",
   "execution_count": 5,
   "metadata": {},
   "outputs": [
    {
     "name": "stderr",
     "output_type": "stream",
     "text": [
      "/Users/erickmaziero/virtualenvs/refact_env/lib/python3.6/site-packages/sklearn/model_selection/_split.py:2179: FutureWarning: From version 0.21, test_size will always complement train_size unless both are specified.\n",
      "  FutureWarning)\n"
     ]
    }
   ],
   "source": [
    "encoder = LabelEncoder()\n",
    "encoder.fit(Y)\n",
    "encoded_Y = encoder.transform(Y)\n",
    "y_binary = to_categorical(encoded_Y)\n",
    "\n",
    "X_train, X_test, y_train, y_test = train_test_split(X, y_binary, train_size = 0.60, random_state=42)"
   ]
  },
  {
   "cell_type": "code",
   "execution_count": null,
   "metadata": {},
   "outputs": [],
   "source": [
    "callback_list = []\n",
    "callback_list.append(EarlyStopping(monitor='val_loss',\n",
    "                                   min_delta=0,\n",
    "                                   patience=2,\n",
    "                                   verbose=0,\n",
    "                                   mode='auto'))"
   ]
  },
  {
   "cell_type": "code",
   "execution_count": 6,
   "metadata": {},
   "outputs": [
    {
     "name": "stdout",
     "output_type": "stream",
     "text": [
      "################# Model 2 ###############\n",
      "_________________________________________________________________\n",
      "Layer (type)                 Output Shape              Param #   \n",
      "=================================================================\n",
      "embedding_1 (Embedding)      (None, 28968, 64)         14946944  \n",
      "_________________________________________________________________\n",
      "dropout_1 (Dropout)          (None, 28968, 64)         0         \n",
      "_________________________________________________________________\n",
      "conv1d_1 (Conv1D)            (None, 28964, 64)         20544     \n",
      "_________________________________________________________________\n",
      "max_pooling1d_1 (MaxPooling1 (None, 7241, 64)          0         \n",
      "_________________________________________________________________\n",
      "lstm_1 (LSTM)                (None, 32)                12416     \n",
      "_________________________________________________________________\n",
      "dense_1 (Dense)              (None, 27)                891       \n",
      "=================================================================\n",
      "Total params: 14,980,795\n",
      "Trainable params: 14,980,795\n",
      "Non-trainable params: 0\n",
      "_________________________________________________________________\n",
      "None\n",
      "Train on 8589 samples, validate on 2148 samples\n",
      "Epoch 1/3\n",
      "8589/8589 [==============================] - 3103s 361ms/step - loss: 1.8907 - acc: 0.5688 - val_loss: 1.7249 - val_acc: 0.5829\n",
      "Epoch 2/3\n",
      "8589/8589 [==============================] - 3202s 373ms/step - loss: 1.7622 - acc: 0.5728 - val_loss: 1.7181 - val_acc: 0.5829\n",
      "Epoch 3/3\n",
      "8589/8589 [==============================] - 3202s 373ms/step - loss: 1.7605 - acc: 0.5729 - val_loss: 1.7237 - val_acc: 0.5829\n",
      "7158/7158 [==============================] - 529s 74ms/step\n",
      "Accuracy: 57.166806\n"
     ]
    }
   ],
   "source": [
    "vocab, max_length = find_vocab_size(X)\n",
    "\n",
    "vocab_size = len(vocab) + 100\n",
    "encoded_docs_train = [one_hot(d, vocab_size) for d in X_train]\n",
    "padded_docs_train = pad_sequences(encoded_docs_train, maxlen=max_length, padding='post')\n",
    "\n",
    "encoded_docs_test = [one_hot(d, vocab_size) for d in X_test]\n",
    "padded_docs_test = pad_sequences(encoded_docs_test, maxlen=max_length, padding='post')\n",
    "\n",
    "model2 = Sequential()\n",
    "model2.add(Embedding(vocab_size, 64, input_length=max_length))\n",
    "model2.add(Dropout(0.2))\n",
    "model2.add(Conv1D(64, 5, activation='relu'))\n",
    "model2.add(MaxPooling1D(pool_size=4))\n",
    "model2.add(LSTM(32))\n",
    "model2.add(Dense(y_binary.shape[1], activation='softmax'))\n",
    "# compile the model\n",
    "model2.compile(optimizer='adam', loss='categorical_crossentropy', metrics=['accuracy'])\n",
    "# summarize the model\n",
    "print('################# Model 2 ###############')\n",
    "print(model2.summary())\n",
    "\n",
    "model2.fit(padded_docs_train, y_train, epochs=3, verbose=1, validation_split=0.2, callbacks=callback_list)\n",
    "# evaluate the model\n",
    "loss, accuracy = model2.evaluate(padded_docs_test, y_test, verbose=1)\n",
    "print('Accuracy: %f' % (accuracy*100))"
   ]
  },
  {
   "cell_type": "code",
   "execution_count": null,
   "metadata": {},
   "outputs": [],
   "source": []
  }
 ],
 "metadata": {
  "kernelspec": {
   "display_name": "Python 3",
   "language": "python",
   "name": "python3"
  },
  "language_info": {
   "codemirror_mode": {
    "name": "ipython",
    "version": 3
   },
   "file_extension": ".py",
   "mimetype": "text/x-python",
   "name": "python",
   "nbconvert_exporter": "python",
   "pygments_lexer": "ipython3",
   "version": "3.6.8"
  }
 },
 "nbformat": 4,
 "nbformat_minor": 2
}
