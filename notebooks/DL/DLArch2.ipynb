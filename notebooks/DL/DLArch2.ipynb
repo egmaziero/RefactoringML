{
 "cells": [
  {
   "cell_type": "markdown",
   "metadata": {},
   "source": [
    "# Deep Learning Arch #2\n",
    "## Embedding->CNN->LSTM->Dense"
   ]
  },
  {
   "cell_type": "code",
   "execution_count": null,
   "metadata": {},
   "outputs": [],
   "source": [
    "from keras.layers import Embedding, Dense, Flatten, LSTM, Conv1D, MaxPooling1D, Dropout, Activation\n",
    "from keras.models import Sequential\n",
    "from keras.preprocessing.text import one_hot\n",
    "from keras.utils import to_categorical\n",
    "from keras.preprocessing.sequence import pad_sequences\n",
    "import pandas as pd\n",
    "import numpy as np\n",
    "import os\n",
    "import csv \n",
    "import sys\n",
    "import re\n",
    "import scipy\n",
    "import numpy as np\n",
    "\n",
    "csv.field_size_limit(sys.maxsize)"
   ]
  },
  {
   "cell_type": "code",
   "execution_count": null,
   "metadata": {},
   "outputs": [],
   "source": [
    "def process_content(content_list):\n",
    "    source_code = []\n",
    "    content_list = eval(content_list)\n",
    "    for line in content_list:\n",
    "        # filter comments\n",
    "        if not re.match(\"\\s*\\/\\/\\s*isComment\", line):\n",
    "            source_code.append(line.replace(\"\\n\", \" newLine \"))\n",
    "    return ' '.join(source_code)"
   ]
  },
  {
   "cell_type": "code",
   "execution_count": null,
   "metadata": {},
   "outputs": [],
   "source": [
    "def find_vocab_size(trainset):\n",
    "    vocab = {}\n",
    "    max_length = 0\n",
    "    for instance in trainset:\n",
    "        tokens = instance.split()\n",
    "\n",
    "        if len(tokens) > max_length:\n",
    "            max_length = len(tokens)\n",
    "\n",
    "        for token in tokens:\n",
    "            if token in vocab:\n",
    "                vocab[token] += 1\n",
    "            else:\n",
    "                vocab[token] = 0\n",
    "\n",
    "    return vocab, max_length"
   ]
  },
  {
   "cell_type": "code",
   "execution_count": null,
   "metadata": {},
   "outputs": [],
   "source": [
    "labels = [\"tmm\", \"lc\", \"dc\", \"lpl\", \"lm\"]\n",
    "for label in labels:\n",
    "    print(\"===== {} ==============\".format(label))\n",
    "    print(\"Reading data...\")\n",
    "    df = pd.read_csv('../data/df/train_{}.csv'.format(label), engine=\"python\")\n",
    "    df_test = pd.read_csv('../data/df/test_{}.csv'.format(label), engine=\"python\")\n",
    "\n",
    "    X_train = []\n",
    "    Y_train = []\n",
    "    X_test = []\n",
    "    Y_test = []\n",
    "\n",
    "    print(\"Preparing lists...\")\n",
    "    for index, row in df.iterrows():\n",
    "        X_train.append(process_content(row[\"content\"]))\n",
    "        Y_train.append(row[\"smells\"])\n",
    "\n",
    "    for index, row in df_test.iterrows():\n",
    "        X_test.append(process_content(row[\"content\"]))\n",
    "        Y_test.append(row[\"smells\"])\n",
    "\n",
    "    vocab, max_length = find_vocab_size(X_train)\n",
    "    \n",
    "    vocab_size = len(vocab) + 100\n",
    "    encoded_docs = [one_hot(d, vocab_size) for d in X_train]\n",
    "    padded_docs = pad_sequences(encoded_docs, maxlen=max_length, padding='post')\n",
    "\n",
    "    encoded_docs_test = [one_hot(d, vocab_size) for d in X_test]\n",
    "    padded_docs_test = pad_sequences(encoded_docs_test, maxlen=max_length, padding='post')\n",
    "\n",
    "    model2 = Sequential()\n",
    "    model2.add(Embedding(vocab_size, 128, input_length=max_length))\n",
    "    model2.add(Conv1D(64, 5, activation='relu'))\n",
    "    model2.add(MaxPooling1D(pool_size=4))\n",
    "    model2.add(LSTM(100))\n",
    "    model2.add(Dense(11, activation='softmax'))\n",
    "    # compile the model\n",
    "    model2.compile(optimizer='adam', loss='binary_crossentropy', metrics=['accuracy'])\n",
    "    # summarize the model\n",
    "    print('################# Model 2 ###############')\n",
    "    print(model2.summary())\n",
    "    \n",
    "    model2.fit(padded_docs, Y_train, epochs=5, verbose=1, validation_split=0.2)\n",
    "    # evaluate the model\n",
    "    loss, accuracy = model2.evaluate(padded_docs_test, Y_test, verbose=0)\n",
    "    print('Accuracy: %f' % (accuracy*100))"
   ]
  }
 ],
 "metadata": {
  "kernelspec": {
   "display_name": "Python 3",
   "language": "python",
   "name": "python3"
  },
  "language_info": {
   "codemirror_mode": {
    "name": "ipython",
    "version": 3
   },
   "file_extension": ".py",
   "mimetype": "text/x-python",
   "name": "python",
   "nbconvert_exporter": "python",
   "pygments_lexer": "ipython3",
   "version": "3.7.0"
  }
 },
 "nbformat": 4,
 "nbformat_minor": 2
}
